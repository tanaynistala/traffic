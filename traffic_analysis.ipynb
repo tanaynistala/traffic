{
 "cells": [
  {
   "cell_type": "markdown",
   "metadata": {},
   "source": [
    "# Analysis\n",
    "\n",
    "This notebook explores the data in the traffic dataset provided by ETHZ."
   ]
  },
  {
   "cell_type": "code",
   "execution_count": 1,
   "metadata": {},
   "outputs": [],
   "source": [
    "import pandas as pd\n",
    "import numpy as np\n",
    "import matplotlib.pyplot as plt\n",
    "import seaborn as sns\n",
    "import contextily as cx"
   ]
  },
  {
   "cell_type": "code",
   "execution_count": 2,
   "metadata": {},
   "outputs": [],
   "source": [
    "# Load the data\n",
    "detectors = pd.read_csv('dataset/detectors.csv')\n",
    "links     = pd.read_csv('dataset/links.csv')\n",
    "traffic   = pd.read_csv('dataset/smalltraffic.csv', low_memory=False)"
   ]
  },
  {
   "cell_type": "code",
   "execution_count": 3,
   "metadata": {},
   "outputs": [],
   "source": [
    "detectors['det_id']  = detectors['detid']\n",
    "detectors['link_id'] = detectors['linkid']\n",
    "detectors['length']  = detectors['length']\n",
    "detectors['type']    = detectors['fclass']\n",
    "detectors['city']    = detectors['citycode']\n",
    "\n",
    "detectors = detectors.drop(columns=['detid', 'linkid', 'length', 'fclass', 'citycode'])"
   ]
  },
  {
   "cell_type": "code",
   "execution_count": 4,
   "metadata": {},
   "outputs": [],
   "source": [
    "links['link_id']  = links['linkid']\n",
    "links['city'] = links['citycode']\n",
    "\n",
    "links = links.drop(columns=['linkid', 'citycode', 'piece', 'group'])"
   ]
  },
  {
   "cell_type": "code",
   "execution_count": 5,
   "metadata": {},
   "outputs": [],
   "source": [
    "traffic['interval'] = traffic['interval'].apply(lambda x: f'{x // 3600}:{x % 3600 // 60}:{x % 60}')\n",
    "traffic['datetime'] = pd.to_datetime(traffic['day'] + ' ' + traffic['interval'], format='%Y-%m-%d %H:%M:%S')\n",
    "traffic['det_id'] = traffic['detid']\n",
    "\n",
    "traffic = traffic.drop(columns=['day', 'interval', 'detid', 'error'])"
   ]
  },
  {
   "cell_type": "code",
   "execution_count": 6,
   "metadata": {},
   "outputs": [
    {
     "data": {
      "text/html": [
       "<div>\n",
       "<style scoped>\n",
       "    .dataframe tbody tr th:only-of-type {\n",
       "        vertical-align: middle;\n",
       "    }\n",
       "\n",
       "    .dataframe tbody tr th {\n",
       "        vertical-align: top;\n",
       "    }\n",
       "\n",
       "    .dataframe thead th {\n",
       "        text-align: right;\n",
       "    }\n",
       "</style>\n",
       "<table border=\"1\" class=\"dataframe\">\n",
       "  <thead>\n",
       "    <tr style=\"text-align: right;\">\n",
       "      <th></th>\n",
       "      <th>det_id</th>\n",
       "      <th>link_id</th>\n",
       "      <th>city</th>\n",
       "      <th>road</th>\n",
       "      <th>type</th>\n",
       "      <th>lanes</th>\n",
       "      <th>limit</th>\n",
       "      <th>lat</th>\n",
       "      <th>long</th>\n",
       "      <th>pos</th>\n",
       "    </tr>\n",
       "  </thead>\n",
       "  <tbody>\n",
       "    <tr>\n",
       "      <th>0</th>\n",
       "      <td>U1-52G</td>\n",
       "      <td>72.0</td>\n",
       "      <td>augsburg</td>\n",
       "      <td>Gögginger Straße</td>\n",
       "      <td>secondary</td>\n",
       "      <td>1.0</td>\n",
       "      <td>50</td>\n",
       "      <td>48.359957</td>\n",
       "      <td>10.889553</td>\n",
       "      <td>0.005512</td>\n",
       "    </tr>\n",
       "    <tr>\n",
       "      <th>1</th>\n",
       "      <td>U1-51G</td>\n",
       "      <td>73.0</td>\n",
       "      <td>augsburg</td>\n",
       "      <td>Gögginger Straße</td>\n",
       "      <td>secondary</td>\n",
       "      <td>1.0</td>\n",
       "      <td>50</td>\n",
       "      <td>48.359945</td>\n",
       "      <td>10.889601</td>\n",
       "      <td>0.004013</td>\n",
       "    </tr>\n",
       "    <tr>\n",
       "      <th>2</th>\n",
       "      <td>U1-52L</td>\n",
       "      <td>70.0</td>\n",
       "      <td>augsburg</td>\n",
       "      <td>Gögginger Straße</td>\n",
       "      <td>secondary</td>\n",
       "      <td>1.0</td>\n",
       "      <td>50</td>\n",
       "      <td>48.359876</td>\n",
       "      <td>10.889356</td>\n",
       "      <td>0.022228</td>\n",
       "    </tr>\n",
       "    <tr>\n",
       "      <th>3</th>\n",
       "      <td>U1-51L</td>\n",
       "      <td>71.0</td>\n",
       "      <td>augsburg</td>\n",
       "      <td>Gögginger Straße</td>\n",
       "      <td>secondary</td>\n",
       "      <td>1.0</td>\n",
       "      <td>50</td>\n",
       "      <td>48.359862</td>\n",
       "      <td>10.889396</td>\n",
       "      <td>0.021889</td>\n",
       "    </tr>\n",
       "    <tr>\n",
       "      <th>4</th>\n",
       "      <td>U1-62</td>\n",
       "      <td>68.0</td>\n",
       "      <td>augsburg</td>\n",
       "      <td>Rosenaustraße</td>\n",
       "      <td>secondary</td>\n",
       "      <td>1.0</td>\n",
       "      <td>50</td>\n",
       "      <td>48.360578</td>\n",
       "      <td>10.889361</td>\n",
       "      <td>0.024465</td>\n",
       "    </tr>\n",
       "  </tbody>\n",
       "</table>\n",
       "</div>"
      ],
      "text/plain": [
       "   det_id  link_id      city              road       type  lanes limit  \\\n",
       "0  U1-52G     72.0  augsburg  Gögginger Straße  secondary    1.0    50   \n",
       "1  U1-51G     73.0  augsburg  Gögginger Straße  secondary    1.0    50   \n",
       "2  U1-52L     70.0  augsburg  Gögginger Straße  secondary    1.0    50   \n",
       "3  U1-51L     71.0  augsburg  Gögginger Straße  secondary    1.0    50   \n",
       "4   U1-62     68.0  augsburg     Rosenaustraße  secondary    1.0    50   \n",
       "\n",
       "         lat       long       pos  \n",
       "0  48.359957  10.889553  0.005512  \n",
       "1  48.359945  10.889601  0.004013  \n",
       "2  48.359876  10.889356  0.022228  \n",
       "3  48.359862  10.889396  0.021889  \n",
       "4  48.360578  10.889361  0.024465  "
      ]
     },
     "execution_count": 6,
     "metadata": {},
     "output_type": "execute_result"
    }
   ],
   "source": [
    "detectors = detectors[['det_id', 'link_id', 'city', 'road', 'type', 'lanes', 'limit', 'lat', 'long', 'pos']]\n",
    "detectors.head()"
   ]
  },
  {
   "cell_type": "code",
   "execution_count": 7,
   "metadata": {},
   "outputs": [
    {
     "data": {
      "text/html": [
       "<div>\n",
       "<style scoped>\n",
       "    .dataframe tbody tr th:only-of-type {\n",
       "        vertical-align: middle;\n",
       "    }\n",
       "\n",
       "    .dataframe tbody tr th {\n",
       "        vertical-align: top;\n",
       "    }\n",
       "\n",
       "    .dataframe thead th {\n",
       "        text-align: right;\n",
       "    }\n",
       "</style>\n",
       "<table border=\"1\" class=\"dataframe\">\n",
       "  <thead>\n",
       "    <tr style=\"text-align: right;\">\n",
       "      <th></th>\n",
       "      <th>link_id</th>\n",
       "      <th>order</th>\n",
       "      <th>city</th>\n",
       "      <th>lat</th>\n",
       "      <th>long</th>\n",
       "    </tr>\n",
       "  </thead>\n",
       "  <tbody>\n",
       "    <tr>\n",
       "      <th>0</th>\n",
       "      <td>0</td>\n",
       "      <td>1</td>\n",
       "      <td>augsburg</td>\n",
       "      <td>48.361079</td>\n",
       "      <td>10.891016</td>\n",
       "    </tr>\n",
       "    <tr>\n",
       "      <th>1</th>\n",
       "      <td>0</td>\n",
       "      <td>2</td>\n",
       "      <td>augsburg</td>\n",
       "      <td>48.360993</td>\n",
       "      <td>10.890894</td>\n",
       "    </tr>\n",
       "    <tr>\n",
       "      <th>2</th>\n",
       "      <td>0</td>\n",
       "      <td>3</td>\n",
       "      <td>augsburg</td>\n",
       "      <td>48.360853</td>\n",
       "      <td>10.890642</td>\n",
       "    </tr>\n",
       "    <tr>\n",
       "      <th>3</th>\n",
       "      <td>0</td>\n",
       "      <td>4</td>\n",
       "      <td>augsburg</td>\n",
       "      <td>48.360719</td>\n",
       "      <td>10.890404</td>\n",
       "    </tr>\n",
       "    <tr>\n",
       "      <th>4</th>\n",
       "      <td>0</td>\n",
       "      <td>5</td>\n",
       "      <td>augsburg</td>\n",
       "      <td>48.360497</td>\n",
       "      <td>10.889994</td>\n",
       "    </tr>\n",
       "  </tbody>\n",
       "</table>\n",
       "</div>"
      ],
      "text/plain": [
       "   link_id  order      city        lat       long\n",
       "0        0      1  augsburg  48.361079  10.891016\n",
       "1        0      2  augsburg  48.360993  10.890894\n",
       "2        0      3  augsburg  48.360853  10.890642\n",
       "3        0      4  augsburg  48.360719  10.890404\n",
       "4        0      5  augsburg  48.360497  10.889994"
      ]
     },
     "execution_count": 7,
     "metadata": {},
     "output_type": "execute_result"
    }
   ],
   "source": [
    "links = links[['link_id', 'order', 'city', 'lat', 'long']]\n",
    "links.head()"
   ]
  },
  {
   "cell_type": "code",
   "execution_count": 8,
   "metadata": {},
   "outputs": [
    {
     "data": {
      "text/html": [
       "<div>\n",
       "<style scoped>\n",
       "    .dataframe tbody tr th:only-of-type {\n",
       "        vertical-align: middle;\n",
       "    }\n",
       "\n",
       "    .dataframe tbody tr th {\n",
       "        vertical-align: top;\n",
       "    }\n",
       "\n",
       "    .dataframe thead th {\n",
       "        text-align: right;\n",
       "    }\n",
       "</style>\n",
       "<table border=\"1\" class=\"dataframe\">\n",
       "  <thead>\n",
       "    <tr style=\"text-align: right;\">\n",
       "      <th></th>\n",
       "      <th>det_id</th>\n",
       "      <th>datetime</th>\n",
       "      <th>city</th>\n",
       "      <th>flow</th>\n",
       "      <th>occ</th>\n",
       "      <th>speed</th>\n",
       "    </tr>\n",
       "  </thead>\n",
       "  <tbody>\n",
       "    <tr>\n",
       "      <th>0</th>\n",
       "      <td>06.X-2li</td>\n",
       "      <td>2017-05-06 00:00:00</td>\n",
       "      <td>augsburg</td>\n",
       "      <td>12</td>\n",
       "      <td>0.0</td>\n",
       "      <td>NaN</td>\n",
       "    </tr>\n",
       "    <tr>\n",
       "      <th>1</th>\n",
       "      <td>06.X-2li</td>\n",
       "      <td>2017-05-06 00:05:00</td>\n",
       "      <td>augsburg</td>\n",
       "      <td>12</td>\n",
       "      <td>0.0</td>\n",
       "      <td>NaN</td>\n",
       "    </tr>\n",
       "    <tr>\n",
       "      <th>2</th>\n",
       "      <td>06.X-2li</td>\n",
       "      <td>2017-05-06 00:10:00</td>\n",
       "      <td>augsburg</td>\n",
       "      <td>12</td>\n",
       "      <td>0.0</td>\n",
       "      <td>NaN</td>\n",
       "    </tr>\n",
       "    <tr>\n",
       "      <th>3</th>\n",
       "      <td>06.X-2li</td>\n",
       "      <td>2017-05-06 00:15:00</td>\n",
       "      <td>augsburg</td>\n",
       "      <td>16</td>\n",
       "      <td>0.0</td>\n",
       "      <td>NaN</td>\n",
       "    </tr>\n",
       "    <tr>\n",
       "      <th>4</th>\n",
       "      <td>06.X-2li</td>\n",
       "      <td>2017-05-06 00:20:00</td>\n",
       "      <td>augsburg</td>\n",
       "      <td>16</td>\n",
       "      <td>0.0</td>\n",
       "      <td>NaN</td>\n",
       "    </tr>\n",
       "  </tbody>\n",
       "</table>\n",
       "</div>"
      ],
      "text/plain": [
       "     det_id            datetime      city  flow  occ  speed\n",
       "0  06.X-2li 2017-05-06 00:00:00  augsburg    12  0.0    NaN\n",
       "1  06.X-2li 2017-05-06 00:05:00  augsburg    12  0.0    NaN\n",
       "2  06.X-2li 2017-05-06 00:10:00  augsburg    12  0.0    NaN\n",
       "3  06.X-2li 2017-05-06 00:15:00  augsburg    16  0.0    NaN\n",
       "4  06.X-2li 2017-05-06 00:20:00  augsburg    16  0.0    NaN"
      ]
     },
     "execution_count": 8,
     "metadata": {},
     "output_type": "execute_result"
    }
   ],
   "source": [
    "traffic = traffic[['det_id', 'datetime', 'city', 'flow', 'occ', 'speed']]\n",
    "traffic.head()"
   ]
  },
  {
   "cell_type": "code",
   "execution_count": 9,
   "metadata": {},
   "outputs": [
    {
     "name": "stdout",
     "output_type": "stream",
     "text": [
      "augsburg: flow occ \n",
      "basel: flow occ \n",
      "bern: flow occ \n",
      "birmingham: flow  speed\n",
      "bolton: flow occ speed\n",
      "bordeaux: flow occ \n",
      "bremen: flow occ \n",
      "cagliari: flow occ \n",
      "constance: flow occ speed\n",
      "darmstadt: flow occ \n",
      "essen: flow occ speed\n",
      "frankfurt: flow occ \n",
      "graz: flow occ \n",
      "groningen: flow occ speed\n",
      "hamburg: flow occ \n",
      "innsbruck: flow  speed\n",
      "kassel: flow occ \n",
      "london: flow occ \n",
      "losangeles: flow occ \n",
      "luzern: flow occ \n",
      "madrid: flow occ \n",
      "melbourne: flow  \n",
      "manchester: flow occ speed\n",
      "marseille: flow occ \n",
      "munich: flow occ \n",
      "paris: flow occ \n",
      "rotterdam: flow occ speed\n",
      "santander: flow occ \n",
      "speyer: flow occ \n",
      "strasbourg: flow occ \n"
     ]
    },
    {
     "name": "stderr",
     "output_type": "stream",
     "text": [
      "/var/folders/9j/ddzkzm7x2bv5txk3k7qblr_80000gn/T/ipykernel_40335/3587162658.py:7: DtypeWarning: Columns (2) have mixed types. Specify dtype option on import or set low_memory=False.\n",
      "  city_data = pd.read_csv(f'dataset/cities/{city}.csv')\n"
     ]
    },
    {
     "name": "stdout",
     "output_type": "stream",
     "text": [
      "stuttgart: flow occ \n",
      "taipeh: flow occ \n",
      "tokyo:   \n",
      "torino: flow occ speed\n",
      "toronto: flow occ \n",
      "toulouse: flow occ \n",
      "utrecht: flow  \n",
      "vilnius: flow occ \n",
      "wolfsburg: flow occ \n",
      "zurich: flow occ \n"
     ]
    }
   ],
   "source": [
    "cities = detectors['city'].unique()\n",
    "\n",
    "# Get the available columns out of ['flow', 'occ', 'speed'] for each city\n",
    "available_columns = {}\n",
    "for city in cities:\n",
    "    # Load {city}.csv\n",
    "    city_data = pd.read_csv(f'dataset/cities/{city}.csv')\n",
    "\n",
    "    # Check which of the columns ['flow', 'occ', 'speed'] are not empty\n",
    "    available_columns[city] = city_data[['flow', 'occ', 'speed']].notnull().any()\n",
    "\n",
    "    print(f'{city}: {'flow' if available_columns[city][\"flow\"] else ''} {'occ' if available_columns[city][\"occ\"] else ''} {'speed' if available_columns[city][\"speed\"] else ''}')"
   ]
  },
  {
   "cell_type": "code",
   "execution_count": 11,
   "metadata": {},
   "outputs": [
    {
     "name": "stdout",
     "output_type": "stream",
     "text": [
      "['augsburg', 'basel', 'bern', 'bolton', 'bordeaux', 'bremen', 'cagliari', 'constance', 'darmstadt', 'essen', 'frankfurt', 'graz', 'groningen', 'hamburg', 'kassel', 'london', 'luzern', 'madrid', 'manchester', 'marseille', 'munich', 'paris', 'rotterdam', 'santander', 'speyer', 'strasbourg', 'stuttgart', 'torino', 'toulouse', 'vilnius', 'wolfsburg', 'zurich']\n"
     ]
    }
   ],
   "source": [
    "# Pick out the cities with flow and occupancy data\n",
    "cities_with_flow_occ = [city for city in cities if available_columns[city]['flow'] and available_columns[city]['occ']]\n",
    "cities_with_flow_occ.remove('losangeles')\n",
    "cities_with_flow_occ.remove('toronto')\n",
    "cities_with_flow_occ.remove('taipeh')\n",
    "print(cities_with_flow_occ)"
   ]
  }
 ],
 "metadata": {
  "kernelspec": {
   "display_name": "Traffic",
   "language": "python",
   "name": "python3"
  },
  "language_info": {
   "codemirror_mode": {
    "name": "ipython",
    "version": 3
   },
   "file_extension": ".py",
   "mimetype": "text/x-python",
   "name": "python",
   "nbconvert_exporter": "python",
   "pygments_lexer": "ipython3",
   "version": "3.12.0"
  }
 },
 "nbformat": 4,
 "nbformat_minor": 2
}
